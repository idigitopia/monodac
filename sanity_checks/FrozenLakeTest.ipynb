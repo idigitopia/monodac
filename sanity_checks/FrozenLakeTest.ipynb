{
 "cells": [
  {
   "cell_type": "code",
   "execution_count": 1,
   "metadata": {},
   "outputs": [],
   "source": [
    "%load_ext autoreload\n",
    "%autoreload 2"
   ]
  },
  {
   "cell_type": "code",
   "execution_count": 2,
   "metadata": {},
   "outputs": [],
   "source": [
    "import sys \n",
    "sys.path.insert(0,'/nfs/guille/afern/users/shrestaa/')"
   ]
  },
  {
   "cell_type": "code",
   "execution_count": 3,
   "metadata": {},
   "outputs": [],
   "source": [
    "from monodac.rl_core.buffer import StandardBuffer\n",
    "from monodac.custom_environments.frozen_lake import FrozenLakeEnv, save_and_print_results\n",
    "from monodac.legacy.MDP_GPU_FACTORED import FullMDPFactored\n",
    "import argparse\n",
    "import os \n",
    "from munch import Munch \n",
    "import itertools\n",
    "from tqdm.notebook import tqdm"
   ]
  },
  {
   "cell_type": "code",
   "execution_count": null,
   "metadata": {},
   "outputs": [],
   "source": []
  },
  {
   "cell_type": "code",
   "execution_count": 4,
   "metadata": {},
   "outputs": [],
   "source": [
    "config = Munch({})\n",
    "\n",
    "config.envArgs = Munch({})\n",
    "config.envArgs.env_name = \"frozen_lake\"\n",
    "config.envArgs.map_size = 15\n",
    "\n",
    "config.logArgs = Munch({})\n",
    "config.logArgs.exp_id = f\"Map{config.envArgs.map_size}\"\n",
    "config.logArgs.results_dir = f\"results/{config.envArgs.env_name}-{config.logArgs.exp_id}/\"\n",
    "\n",
    "config.dataArgs = Munch({})\n",
    "config.dataArgs.buffer_size = 100000\n",
    "config.dataArgs.buffer_device = \"cpu\"\n",
    "\n",
    "config.mdpBuildArgs = Munch({})\n",
    "config.mdpBuildArgs.ur = -1000\n",
    "config.mdpBuildArgs.MAX_S_COUNT = config.envArgs.map_size**2 + 10\n",
    "config.mdpBuildArgs.MAX_NS_COUNT = 10\n",
    "\n",
    "config.mdpSolveArgs = Munch({})\n",
    "config.mdpSolveArgs.gamma = 0.99\n",
    "config.mdpSolveArgs.slip_prob = 0.1\n",
    "config.mdpSolveArgs.default_mode = \"GPU\"\n"
   ]
  },
  {
   "cell_type": "code",
   "execution_count": 5,
   "metadata": {},
   "outputs": [
    {
     "name": "stdout",
     "output_type": "stream",
     "text": [
      "Munch({'envArgs': Munch({'env_name': 'frozen_lake', 'map_size': 15}), 'logArgs': Munch({'exp_id': 'Map15', 'results_dir': 'results/frozen_lake-Map15/'}), 'dataArgs': Munch({'buffer_size': 100000, 'buffer_device': 'cpu'}), 'mdpBuildArgs': Munch({'ur': -1000, 'MAX_S_COUNT': 235, 'MAX_NS_COUNT': 10}), 'mdpSolveArgs': Munch({'gamma': 0.99, 'slip_prob': 0.1, 'default_mode': 'GPU'})})\n"
     ]
    }
   ],
   "source": [
    "print(config)\n",
    "os.makedirs(config.logArgs.results_dir, exist_ok = True)\n",
    "env = FrozenLakeEnv((config.envArgs.map_size, config.envArgs.map_size))"
   ]
  },
  {
   "cell_type": "code",
   "execution_count": 6,
   "metadata": {},
   "outputs": [],
   "source": [
    "train_buffer =  StandardBuffer(state_shape = env.reset().shape,\n",
    "                               action_shape = env.reset().shape, \n",
    "                               buffer_size = config.dataArgs.buffer_size,\n",
    "                               device = config.dataArgs.buffer_device)\n",
    "env._max_episode_steps = config.envArgs.map_size**2"
   ]
  },
  {
   "cell_type": "code",
   "execution_count": 7,
   "metadata": {},
   "outputs": [
    {
     "data": {
      "text/plain": [
       "226"
      ]
     },
     "execution_count": 7,
     "metadata": {},
     "output_type": "execute_result"
    }
   ],
   "source": [
    "env.GetStateSpace()"
   ]
  },
  {
   "cell_type": "code",
   "execution_count": 8,
   "metadata": {},
   "outputs": [
    {
     "name": "stdout",
     "output_type": "stream",
     "text": [
      "Average Reward of collected trajectories:-86.646\n"
     ]
    }
   ],
   "source": [
    "# Collect random Dataset # till replay initial\\\n",
    "random_policy = lambda s: env.sample_random_action()\n",
    "train_buffer, info = StandardBuffer.populate_buffer(train_buffer, env, episode_count=9999, render=False, policy=random_policy,\n",
    "                                           frame_count=config.dataArgs.buffer_size, pad_attribute_fxn={\"qval\": lambda s: 0})"
   ]
  },
  {
   "cell_type": "code",
   "execution_count": null,
   "metadata": {},
   "outputs": [],
   "source": []
  },
  {
   "cell_type": "markdown",
   "metadata": {},
   "source": [
    "# Traditional MDP"
   ]
  },
  {
   "cell_type": "code",
   "execution_count": 9,
   "metadata": {},
   "outputs": [],
   "source": [
    "A = list(set([a for s,a,ns,r,d in train_buffer.get_tran_tuples()]))\n",
    "mdp_T = FullMDPFactored(A = A,\n",
    "                    build_args=config.mdpBuildArgs, \n",
    "                    solve_args=config.mdpSolveArgs)"
   ]
  },
  {
   "cell_type": "code",
   "execution_count": 10,
   "metadata": {},
   "outputs": [
    {
     "data": {
      "application/vnd.jupyter.widget-view+json": {
       "model_id": "dab40c3aeb1e42be9dd805ae1470bfc4",
       "version_major": 2,
       "version_minor": 0
      },
      "text/plain": [
       "  0%|          | 0/100000 [00:00<?, ?it/s]"
      ]
     },
     "metadata": {},
     "output_type": "display_data"
    }
   ],
   "source": [
    "# len([1 for tran_tuple in  train_buffer.get_tran_tuples() if tran_tuple[-1] ])\n",
    "for t in  tqdm(train_buffer.get_tran_tuples()): \n",
    "    s, a, ns, r, d = t\n",
    "    tc =  (s, a, ns, (r, 0), d)\n",
    "    mdp_T.consume_transition(tc)\n",
    "        "
   ]
  },
  {
   "cell_type": "code",
   "execution_count": null,
   "metadata": {},
   "outputs": [],
   "source": []
  },
  {
   "cell_type": "code",
   "execution_count": 11,
   "metadata": {},
   "outputs": [],
   "source": [
    "mdp_T.curr_vi_error = 999"
   ]
  },
  {
   "cell_type": "code",
   "execution_count": 12,
   "metadata": {},
   "outputs": [
    {
     "name": "stdout",
     "output_type": "stream",
     "text": [
      "Elapsed Time:1s, VI Error:0.0, #Backups: 250\n",
      "Time takedn to solve 1.0286056995391846\n"
     ]
    }
   ],
   "source": [
    "mdp_T.solve(1e-1,safe_bkp=True,mode=\"GPU\")"
   ]
  },
  {
   "cell_type": "code",
   "execution_count": null,
   "metadata": {},
   "outputs": [],
   "source": []
  },
  {
   "cell_type": "code",
   "execution_count": null,
   "metadata": {},
   "outputs": [],
   "source": []
  },
  {
   "cell_type": "code",
   "execution_count": null,
   "metadata": {},
   "outputs": [],
   "source": []
  },
  {
   "cell_type": "code",
   "execution_count": 22,
   "metadata": {},
   "outputs": [
    {
     "data": {
      "application/vnd.jupyter.widget-view+json": {
       "model_id": "03c4672686bf4cc28b8768dc3973db22",
       "version_major": 2,
       "version_minor": 0
      },
      "text/plain": [
       "  0%|          | 0/226 [00:00<?, ?it/s]"
      ]
     },
     "metadata": {},
     "output_type": "display_data"
    }
   ],
   "source": [
    "val_vector = [-1000]*env.GetStateSpace()\n",
    "pi_vector = [0]*env.GetStateSpace()\n",
    "for i in tqdm(list(range(env.GetStateSpace()))):\n",
    "    s = (i,)\n",
    "    if s in mdp_T.valueDict:\n",
    "        val_vector[i] = mdp_T.valueDict[s]\n",
    "        pi_vector[i] = int(mdp_T.polDict[s][0])"
   ]
  },
  {
   "cell_type": "code",
   "execution_count": 23,
   "metadata": {},
   "outputs": [],
   "source": [
    "# pi_vector"
   ]
  },
  {
   "cell_type": "code",
   "execution_count": 16,
   "metadata": {},
   "outputs": [
    {
     "name": "stderr",
     "output_type": "stream",
     "text": [
      "100%|█████████████████████████████████████████████████████████████████████████████████████████████████████████████████████████████████████████████████████████████████████| 50/50 [00:00<00:00, 83.59it/s]"
     ]
    },
    {
     "name": "stdout",
     "output_type": "stream",
     "text": [
      "Average Reward 562.62\n"
     ]
    },
    {
     "name": "stderr",
     "output_type": "stream",
     "text": [
      "\n"
     ]
    }
   ],
   "source": [
    "from monodac.rl_core.utils_eval import evaluate_on_env\n",
    "\n",
    "policy_func = lambda s : int(mdp_T.s_polDict[tuple(s)][0])\n",
    "# policy_func = lambda s : pi_vector[s[0]]\n",
    "avg_reward, info =  evaluate_on_env(env, policy_func, eps_count=50, eval_eps=0, progress_bar=True)\n",
    "print(\"Average Reward\", avg_reward)"
   ]
  },
  {
   "cell_type": "code",
   "execution_count": 17,
   "metadata": {},
   "outputs": [],
   "source": [
    "# config.logArgs.results_dir"
   ]
  },
  {
   "cell_type": "code",
   "execution_count": 18,
   "metadata": {},
   "outputs": [
    {
     "data": {
      "text/plain": [
       "235"
      ]
     },
     "execution_count": 18,
     "metadata": {},
     "output_type": "execute_result"
    }
   ],
   "source": [
    "config.mdpBuildArgs.MAX_S_COUNT "
   ]
  },
  {
   "cell_type": "code",
   "execution_count": 20,
   "metadata": {},
   "outputs": [],
   "source": [
    "# save_and_print_results(val_vector, pi_vector, MAP=env.map_grid, env=env, beta=0.99, \n",
    "#                        name=\"cpu\", results_dir=config.logArgs.results_dir)"
   ]
  },
  {
   "cell_type": "code",
   "execution_count": 21,
   "metadata": {},
   "outputs": [],
   "source": [
    "# save_and_print_results(val_vector, pi_vector, MAP=env.map_grid, env=env, beta=0.99, \n",
    "#                        name=\"cpu\", results_dir=config.logArgs.results_dir)"
   ]
  },
  {
   "cell_type": "markdown",
   "metadata": {},
   "source": [
    "# Pytorch VI"
   ]
  },
  {
   "cell_type": "code",
   "execution_count": 22,
   "metadata": {},
   "outputs": [],
   "source": [
    "from monodac.rl_core.vi_solver import MDP, MDPBuild"
   ]
  },
  {
   "cell_type": "code",
   "execution_count": 23,
   "metadata": {},
   "outputs": [],
   "source": [
    "# space_vectors[0]"
   ]
  },
  {
   "cell_type": "code",
   "execution_count": 24,
   "metadata": {},
   "outputs": [
    {
     "name": "stderr",
     "output_type": "stream",
     "text": [
      "100%|███████████████████████████████████████████████████████████████████████████████████████████████████████████████████████████████████████████████████████████| 100000/100000 [00:16<00:00, 6149.12it/s]\n"
     ]
    }
   ],
   "source": [
    "space_vectors, core_vectors, sec_vectors = MDPBuild.get_empirical_mdp_params_from_transitions(train_buffer.get_tran_tuples())"
   ]
  },
  {
   "cell_type": "code",
   "execution_count": 25,
   "metadata": {},
   "outputs": [],
   "source": [
    "mdp = MDP(space_vectors, core_vectors)"
   ]
  },
  {
   "cell_type": "code",
   "execution_count": 26,
   "metadata": {},
   "outputs": [
    {
     "name": "stdout",
     "output_type": "stream",
     "text": [
      "0 tensor(999.9990, device='cuda:0')\n",
      "Solved MDP in 128 Backups\n",
      "Function 'solve' executed in 0.3435s\n"
     ]
    }
   ],
   "source": [
    "mdp.solve(0.00001)"
   ]
  },
  {
   "cell_type": "code",
   "execution_count": 27,
   "metadata": {},
   "outputs": [
    {
     "data": {
      "text/plain": [
       "tensor(0., device='cuda:0')"
      ]
     },
     "execution_count": 27,
     "metadata": {},
     "output_type": "execute_result"
    }
   ],
   "source": [
    "mdp.curr_error"
   ]
  },
  {
   "cell_type": "code",
   "execution_count": 28,
   "metadata": {},
   "outputs": [
    {
     "name": "stderr",
     "output_type": "stream",
     "text": [
      "100%|████████████████████████████████████████████████████████████████████████████████████████████████████████████████████████████████████████████████████████████████████| 50/50 [00:00<00:00, 162.17it/s]"
     ]
    },
    {
     "name": "stdout",
     "output_type": "stream",
     "text": [
      "Average Reward 646.74\n"
     ]
    },
    {
     "name": "stderr",
     "output_type": "stream",
     "text": [
      "\n"
     ]
    }
   ],
   "source": [
    "from monodac.rl_core.utils_eval import evaluate_on_env\n",
    "\n",
    "# policy_func = lambda s : int(mdp_T.s_polDict[tuple(s)][0])\n",
    "policy_func = lambda s : mdp.policy(s).cpu().numpy()\n",
    "avg_reward, info =  evaluate_on_env(env, policy_func, eps_count=50, eval_eps=0, progress_bar=True)\n",
    "print(\"Average Reward\", avg_reward)"
   ]
  },
  {
   "cell_type": "code",
   "execution_count": 33,
   "metadata": {},
   "outputs": [
    {
     "data": {
      "application/vnd.jupyter.widget-view+json": {
       "model_id": "96c014fe7fee40e9b420e2e28d41ca26",
       "version_major": 2,
       "version_minor": 0
      },
      "text/plain": [
       "  0%|          | 0/226 [00:00<?, ?it/s]"
      ]
     },
     "metadata": {},
     "output_type": "display_data"
    }
   ],
   "source": [
    "val_vector = [-1000]*env.GetStateSpace()\n",
    "pi_vector = [0]*env.GetStateSpace()\n",
    "for i in tqdm(list(range(env.GetStateSpace()))):\n",
    "    s = (i,)\n",
    "    if s in mdp_T.valueDict:\n",
    "        val_vector[i] = mdp.V[i+1].cpu()\n",
    "        pi_vector[i] = mdp.Pi[i+1].cpu()"
   ]
  },
  {
   "cell_type": "code",
   "execution_count": 34,
   "metadata": {},
   "outputs": [
    {
     "name": "stdout",
     "output_type": "stream",
     "text": [
      "\n",
      "Average reward: 437.9\n",
      "\n",
      "Avereage discounted reward: 629.7946715945704\n",
      "\n",
      "State Value image view:\n",
      "\n",
      "\n",
      "\n",
      "Best Q-value and Policy:\n",
      "\n"
     ]
    },
    {
     "data": {
      "text/plain": [
       "(437.9, 629.7946715945704)"
      ]
     },
     "execution_count": 34,
     "metadata": {},
     "output_type": "execute_result"
    },
    {
     "data": {
      "image/png": "[encoded data removed]",
      "text/plain": [
       "<Figure size 432x288 with 2 Axes>"
      ]
     },
     "metadata": {
      "needs_background": "light"
     },
     "output_type": "display_data"
    }
   ],
   "source": [
    "save_and_print_results(val_vector, pi_vector, MAP=env.map_grid, env=env, beta=0.99, \n",
    "                       name=\"cpu\", results_dir=config.logArgs.results_dir)"
   ]
  },
  {
   "cell_type": "code",
   "execution_count": null,
   "metadata": {},
   "outputs": [],
   "source": []
  }
 ],
 "metadata": {
  "kernelspec": {
   "display_name": "Python 3 (ipykernel)",
   "language": "python",
   "name": "python3"
  },
  "language_info": {
   "codemirror_mode": {
    "name": "ipython",
    "version": 3
   },
   "file_extension": ".py",
   "mimetype": "text/x-python",
   "name": "python",
   "nbconvert_exporter": "python",
   "pygments_lexer": "ipython3",
   "version": "3.7.13"
  }
 },
 "nbformat": 4,
 "nbformat_minor": 4
}
