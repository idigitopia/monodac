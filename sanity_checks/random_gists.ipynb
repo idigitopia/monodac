{
 "cells": [
  {
   "cell_type": "code",
   "execution_count": 1,
   "id": "beaed985-a7fa-4c94-906e-81d39442965d",
   "metadata": {},
   "outputs": [],
   "source": [
    "import torch "
   ]
  },
  {
   "cell_type": "code",
   "execution_count": 2,
   "id": "fafffdfd-761d-4bc9-93db-130cb0998549",
   "metadata": {},
   "outputs": [],
   "source": [
    "a = torch.rand((3,5))"
   ]
  },
  {
   "cell_type": "code",
   "execution_count": 3,
   "id": "6c6a4d28-f431-453b-bfc0-e2090631e23d",
   "metadata": {},
   "outputs": [
    {
     "data": {
      "text/plain": [
       "tensor([[0.6431, 0.9955, 0.8928, 0.3097, 0.5578],\n",
       "        [0.2105, 0.9102, 0.1360, 0.2292, 0.4519],\n",
       "        [0.1036, 0.4170, 0.0957, 0.6927, 0.4508]])"
      ]
     },
     "execution_count": 3,
     "metadata": {},
     "output_type": "execute_result"
    }
   ],
   "source": [
    "a"
   ]
  },
  {
   "cell_type": "code",
   "execution_count": 12,
   "id": "dfd09a52-51d6-46dd-9fe3-06c8c77360c7",
   "metadata": {},
   "outputs": [
    {
     "data": {
      "text/plain": [
       "47089866114256"
      ]
     },
     "execution_count": 12,
     "metadata": {},
     "output_type": "execute_result"
    }
   ],
   "source": [
    "hash(a)"
   ]
  },
  {
   "cell_type": "code",
   "execution_count": 8,
   "id": "74d2198e-fc96-4eba-80f0-b09a2f4d2a44",
   "metadata": {},
   "outputs": [
    {
     "ename": "AttributeError",
     "evalue": "'Tensor' object has no attribute '__name__'",
     "output_type": "error",
     "traceback": [
      "\u001b[0;31m---------------------------------------------------------------------------\u001b[0m",
      "\u001b[0;31mAttributeError\u001b[0m                            Traceback (most recent call last)",
      "\u001b[0;32m/tmp/ipykernel_176562/237442242.py\u001b[0m in \u001b[0;36m<module>\u001b[0;34m\u001b[0m\n\u001b[0;32m----> 1\u001b[0;31m \u001b[0ma\u001b[0m\u001b[0;34m.\u001b[0m\u001b[0m__name__\u001b[0m\u001b[0;34m\u001b[0m\u001b[0;34m\u001b[0m\u001b[0m\n\u001b[0m",
      "\u001b[0;31mAttributeError\u001b[0m: 'Tensor' object has no attribute '__name__'"
     ]
    }
   ],
   "source": [
    "a.__name__"
   ]
  },
  {
   "cell_type": "code",
   "execution_count": 11,
   "id": "8bba9894-832f-4424-bb48-21d8ada91a29",
   "metadata": {},
   "outputs": [
    {
     "data": {
      "text/plain": [
       "47089866114256"
      ]
     },
     "execution_count": 11,
     "metadata": {},
     "output_type": "execute_result"
    }
   ],
   "source": [
    "a.__hash__()"
   ]
  },
  {
   "cell_type": "code",
   "execution_count": null,
   "id": "93e49e68-3307-4dd1-a9cf-b10ff8783ea1",
   "metadata": {},
   "outputs": [],
   "source": []
  }
 ],
 "metadata": {
  "kernelspec": {
   "display_name": "Python 3 (ipykernel)",
   "language": "python",
   "name": "python3"
  },
  "language_info": {
   "codemirror_mode": {
    "name": "ipython",
    "version": 3
   },
   "file_extension": ".py",
   "mimetype": "text/x-python",
   "name": "python",
   "nbconvert_exporter": "python",
   "pygments_lexer": "ipython3",
   "version": "3.7.13"
  }
 },
 "nbformat": 4,
 "nbformat_minor": 5
}
